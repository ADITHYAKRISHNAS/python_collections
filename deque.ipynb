{
 "cells": [
  {
   "cell_type": "markdown",
   "id": "a8648e3c-d209-4465-b9d6-9a9af9d10829",
   "metadata": {},
   "source": [
    "# Deque\n"
   ]
  },
  {
   "cell_type": "markdown",
   "id": "47ba1c88-e8ad-43e2-ae51-eedef656f4d6",
   "metadata": {},
   "source": [
    "Deque (Doubly Ended Queue) in Python is implemented using the module “collections“. Deque is preferred over a list in the cases where we need quicker append and pop operations from both the ends of the container, as deque provides an O(1) time complexity for append and pop operations as compared to a list that provides O(n) time complexity."
   ]
  },
  {
   "cell_type": "markdown",
   "id": "9b0c5bb0-4592-47ed-837f-bc081c59aa92",
   "metadata": {},
   "source": [
    "Types of Restricted Deque Input "
   ]
  },
  {
   "cell_type": "markdown",
   "id": "4b15e28a-3b6c-4670-8e6b-b15cea802da2",
   "metadata": {},
   "source": [
    "- #### Input Restricted Deque: \n",
    "Input is limited at one end while deletion is permitted at both ends.\n",
    "- #### Output Restricted Deque: \n",
    "output is limited at one end but insertion is permitted at both ends."
   ]
  },
  {
   "cell_type": "markdown",
   "id": "23c27ea0-2154-433c-8336-37a53765fbfb",
   "metadata": {},
   "source": [
    "## Operations on deque"
   ]
  },
  {
   "cell_type": "markdown",
   "id": "d3f6d418-893d-46eb-9f0c-a5eafe0f5beb",
   "metadata": {},
   "source": [
    "### Appending Items Efficiently\n",
    "\n",
    "- #### append():- \n",
    "The funtion is used to insert the value in its arqument to the end of the deque.\n",
    "- #### appendleft():- \n",
    "This function is used to insert the value in its argument to the left end of the deque."
   ]
  },
  {
   "cell_type": "code",
   "execution_count": 1,
   "id": "e530b1ab-7d07-41f8-89ea-770d2c483910",
   "metadata": {
    "tags": []
   },
   "outputs": [
    {
     "name": "stdout",
     "output_type": "stream",
     "text": [
      "deque:  deque([1, 2, 3])\n",
      "\n",
      "The deque after appneding at right is : \n",
      "deque([1, 2, 3, 4])\n",
      "\n",
      "The deuqe after appending at left is : \n",
      "deque([6, 1, 2, 3, 4])\n"
     ]
    }
   ],
   "source": [
    "from collections import deque\n",
    "\n",
    "de = deque([1, 2, 3,])\n",
    "print(\"deque: \", de)\n",
    "\n",
    "de.append(4)\n",
    "\n",
    "print(\"\\nThe deque after appneding at right is : \")\n",
    "print(de)\n",
    "\n",
    "de.appendleft(6)\n",
    "\n",
    "print(\"\\nThe deuqe after appending at left is : \")\n",
    "print(de)\n"
   ]
  },
  {
   "cell_type": "markdown",
   "id": "1bb8b9c3-b75d-4340-8f58-714afe37c2ce",
   "metadata": {},
   "source": [
    "### Popping Items Efficiently\n",
    "\n",
    "- #### pop():- \n",
    "This function is used to delete an argument from the right end of the deque.\n",
    "- #### popleft():- \n",
    "This function is used to delete an argument from the left end of the deque."
   ]
  },
  {
   "cell_type": "code",
   "execution_count": 2,
   "id": "b1941188-4833-4e4b-aec6-ba8678e88c3b",
   "metadata": {
    "tags": []
   },
   "outputs": [
    {
     "name": "stdout",
     "output_type": "stream",
     "text": [
      "\n",
      "The deque after deleting from right is : \n",
      "deque([6, 1, 2, 3])\n",
      "\n",
      "The deque after deleting from left is : \n",
      "deque([1, 2, 3])\n"
     ]
    }
   ],
   "source": [
    "de.pop()\n",
    "print(\"\\nThe deque after deleting from right is : \")\n",
    "print(de)\n",
    "de.popleft()\n",
    "print(\"\\nThe deque after deleting from left is : \")\n",
    "print(de)"
   ]
  },
  {
   "cell_type": "markdown",
   "id": "b2a1a247-a02e-40e8-b9a0-7d6030d9a584",
   "metadata": {},
   "source": [
    "### Accessing Items in a deque\n",
    "\n",
    "- #### index(ele, beg, end):- \n",
    "This function returns the first index of the value mentioned in arguments, starting searching from beg till end index.\n",
    "- #### insert(i, a):- \n",
    "This function inserts the value mentioned in arguments(a) at index(i) specified in arguments.\n",
    "- #### remove():- \n",
    "This function removes the first occurrence of the value mentioned in arguments.\n",
    "- #### count():- \n",
    "This function counts the number of occurrences of value mentioned in arguments.\n"
   ]
  },
  {
   "cell_type": "code",
   "execution_count": 4,
   "id": "c4ba9a3b-9a66-4af8-9cc6-a3a32f2e2c89",
   "metadata": {
    "tags": []
   },
   "outputs": [
    {
     "name": "stdout",
     "output_type": "stream",
     "text": [
      "The number 4 first occurs at a position : \n",
      "4\n",
      "The deque after inserting 3 at 5th position is : \n",
      "deque([1, 2, 3, 3, 3, 4, 2, 4])\n",
      "The count of 3 in deque is : \n",
      "3\n",
      "The deque after deleting first occurrence of 3 is : \n",
      "deque([1, 2, 3, 3, 4, 2, 4])\n"
     ]
    }
   ],
   "source": [
    "de = deque([1, 2, 3, 3, 4, 2, 4])\n",
    "print (\"The number 4 first occurs at a position : \")\n",
    "print (de.index(4,2,5))\n",
    "de.insert(4,3)\n",
    "print (\"The deque after inserting 3 at 5th position is : \")\n",
    "print (de)\n",
    "print (\"The count of 3 in deque is : \")\n",
    "print (de.count(3))\n",
    "de.remove(3)\n",
    "print (\"The deque after deleting first occurrence of 3 is : \")\n",
    "print (de)"
   ]
  },
  {
   "cell_type": "markdown",
   "id": "56f098d1-b193-4d2f-9dfa-5cbf388c85ef",
   "metadata": {},
   "source": [
    "### Size of a deque\n",
    "\n",
    "- #### len(dequeue):- \n",
    "Return the current size of the dequeue."
   ]
  },
  {
   "cell_type": "code",
   "execution_count": 5,
   "id": "3bdecb42-a93e-47a0-86bf-01b83ab20975",
   "metadata": {
    "tags": []
   },
   "outputs": [
    {
     "name": "stdout",
     "output_type": "stream",
     "text": [
      "Current Deque:  deque([1, 2, 3, 4, 5, 6])\n",
      "Size of Deque: 6\n",
      "\n",
      "The deque after deleting from right is: deque([1, 2, 3, 4, 5])\n",
      "Size of Deque: 5\n"
     ]
    }
   ],
   "source": [
    "de = deque([1, 2, 3, 4, 5, 6])\n",
    "print(\"Current Deque: \", de)\n",
    "print(f\"Size of Deque: {len(de)}\")\n",
    "de.pop()\n",
    "print(\"\\nThe deque after deleting from right is: \", end = '')\n",
    "print(de)\n",
    "print(f\"Size of Deque: {len(de)}\")"
   ]
  },
  {
   "cell_type": "markdown",
   "id": "0cbfe564-4c43-4146-b3c1-56765bb34f5d",
   "metadata": {},
   "source": [
    "### Front and Back of a deque\n",
    "\n",
    "- #### Deque[0]:- \n",
    "We can access the front element of the deque using indexing with de[0].\n",
    "\n",
    "- #### Deque[-1]:- \n",
    "We can access the back element of the deque using indexing with de[-1]."
   ]
  },
  {
   "cell_type": "code",
   "execution_count": 10,
   "id": "06c70237-f2f2-49b0-b71d-e2947ee10401",
   "metadata": {
    "tags": []
   },
   "outputs": [
    {
     "name": "stdout",
     "output_type": "stream",
     "text": [
      "Current Deque:  deque([1, 2, 3, 4, 5, 6])\n",
      "Front element of the deque: 1\n",
      "Back element of the deque: 6\n"
     ]
    }
   ],
   "source": [
    "de = deque([1, 2, 3, 4, 5, 6])\n",
    "\n",
    "print(\"Current Deque: \", de)\n",
    " \n",
    "\n",
    "print(\"Front element of the deque:\", de[0])\n",
    " \n",
    "\n",
    "    \n",
    "print(\"Back element of the deque:\", de[-1])"
   ]
  },
  {
   "cell_type": "markdown",
   "id": "9066814e-64b6-4ffc-9713-5cf12e25a537",
   "metadata": {
    "tags": []
   },
   "source": [
    "### Different operations on deque\n",
    "\n",
    "- #### extend(iterable):- \n",
    "This function is used to add multiple values at the right end of the deque. The argument passed is iterable.\n",
    "- ####  extendleft(iterable):- \n",
    "This function is used to add multiple values at the left end of the deque. The argument passed is iterable. Order is reversed as a result of left appends.\n",
    "- ####  reverse():- \n",
    "This function is used to reverse the order of deque elements.\n",
    "- #### rotate():- \n",
    "This function rotates the deque by the number specified in arguments. If the number specified is negative, rotation occurs to the left. Else rotation is to right."
   ]
  },
  {
   "cell_type": "code",
   "execution_count": 9,
   "id": "16093f26-d4b7-4bf5-86ba-6bbdf73f9217",
   "metadata": {
    "tags": []
   },
   "outputs": [
    {
     "name": "stdout",
     "output_type": "stream",
     "text": [
      "The deque after extending deque at end is : \n",
      "deque([1, 2, 3])\n",
      "The deque after extending deque at beginning is : \n",
      "deque([9, 8, 7, 1, 2, 3])\n",
      "The deque after rotating deque is : \n",
      "deque([1, 2, 3, 9, 8, 7])\n",
      "The deque after reversing deque is : \n",
      "deque([7, 8, 9, 3, 2, 1])\n"
     ]
    }
   ],
   "source": [
    "de = deque([1, 2, 3,])\n",
    "\n",
    "deque([1, 2, 3,])\n",
    "\n",
    "print (\"The deque after extending deque at end is : \")\n",
    "print (de)\n",
    "de.extendleft([7,8,9])\n",
    "print (\"The deque after extending deque at beginning is : \")\n",
    "print (de)\n",
    "de.rotate(-3)\n",
    "print (\"The deque after rotating deque is : \")\n",
    "print (de)\n",
    "de.reverse()\n",
    "print (\"The deque after reversing deque is : \")\n",
    "print (de)"
   ]
  },
  {
   "cell_type": "code",
   "execution_count": 14,
   "id": "62d7ef9d-5a20-4c7e-9a06-9abae2dc0883",
   "metadata": {
    "tags": []
   },
   "outputs": [
    {
     "name": "stdout",
     "output_type": "stream",
     "text": [
      "deque([3, 4, 5, 1, 2])\n",
      "deque([5, 1, 2, 3, 4])\n",
      "deque([1, 2, 3, 4, 5])\n"
     ]
    }
   ],
   "source": [
    "from collections import deque\n",
    "\n",
    "d = deque([1, 2, 3, 4, 5])\n",
    "d.rotate(-2)\n",
    "print(d)\n",
    "d.rotate(3)\n",
    "print(d)\n",
    "d.rotate(4)\n",
    "print(d)"
   ]
  },
  {
   "cell_type": "code",
   "execution_count": null,
   "id": "ab973b30-d2ba-4209-81a9-8d01c178bc9b",
   "metadata": {},
   "outputs": [],
   "source": []
  }
 ],
 "metadata": {
  "kernelspec": {
   "display_name": "Python 3 (ipykernel)",
   "language": "python",
   "name": "python3"
  },
  "language_info": {
   "codemirror_mode": {
    "name": "ipython",
    "version": 3
   },
   "file_extension": ".py",
   "mimetype": "text/x-python",
   "name": "python",
   "nbconvert_exporter": "python",
   "pygments_lexer": "ipython3",
   "version": "3.11.2"
  }
 },
 "nbformat": 4,
 "nbformat_minor": 5
}
