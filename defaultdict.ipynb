{
 "cells": [
  {
   "cell_type": "markdown",
   "id": "f6bfa685-a9ad-4209-9e33-26a9c7da0712",
   "metadata": {},
   "source": [
    "# Defaultdict\n"
   ]
  },
  {
   "cell_type": "markdown",
   "id": "130c40b8-4cef-479d-beac-d58bfd7249f1",
   "metadata": {},
   "source": [
    "Defaultdict is a container like dictionaries present in the module collections. Defaultdict is a sub-class of the dictionary class that returns a dictionary-like object. The functionality of both dictionaries and defaultdict are almost same except for the fact that defaultdict never raises a KeyError. It provides a default value for the key that does not exists.\n"
   ]
  },
  {
   "cell_type": "code",
   "execution_count": 2,
   "id": "0a611043-49c9-4b5a-b1bc-e746a3e300d5",
   "metadata": {
    "tags": []
   },
   "outputs": [
    {
     "name": "stdout",
     "output_type": "stream",
     "text": [
      "1\n",
      "2\n",
      "Not Present\n"
     ]
    }
   ],
   "source": [
    "from collections import defaultdict\n",
    "\n",
    "def def_value():\n",
    "    return \"Not Present\"\n",
    "\n",
    "d = defaultdict(def_value)\n",
    "d[\"a\"] = 1\n",
    "d[\"b\"] = 2\n",
    "\n",
    "print(d[\"a\"])\n",
    "print(d[\"b\"])\n",
    "print(d[\"c\"])"
   ]
  },
  {
   "cell_type": "markdown",
   "id": "4566f8af-14b1-452e-a971-2751fe4e74c6",
   "metadata": {},
   "source": [
    "## Inner Working of defaultdict"
   ]
  },
  {
   "cell_type": "markdown",
   "id": "460e782c-0601-490c-bec7-0087a0813892",
   "metadata": {},
   "source": [
    "Defaultdict adds one writable instance variable and one method in addition to the standard dictionary operations. The instance variable is the default_factory parameter and the method provided is `__missing__`."
   ]
  },
  {
   "cell_type": "markdown",
   "id": "e726fc51-d74d-4c6d-93e8-ce67878ca21b",
   "metadata": {},
   "source": [
    "- <h4>Default_factory:</h4> It is a function returning the default value for the dictionary defined. If this argument is absent then the dictionary raises a KeyError.\n"
   ]
  },
  {
   "cell_type": "code",
   "execution_count": 6,
   "id": "1c835471-559c-4d61-a81f-61480bfda491",
   "metadata": {
    "tags": []
   },
   "outputs": [
    {
     "name": "stdout",
     "output_type": "stream",
     "text": [
      "1\n",
      "2\n",
      "Not Present\n"
     ]
    }
   ],
   "source": [
    "d = defaultdict(lambda: \"Not Present\")\n",
    "d[\"a\"] = 1\n",
    "d[\"b\"] = 2\n",
    "\n",
    "print(d[\"a\"])\n",
    "print(d[\"b\"])\n",
    "print(d[\"c\"])"
   ]
  },
  {
   "cell_type": "markdown",
   "id": "df9a3169-348c-4163-9d1a-eeef0d156109",
   "metadata": {},
   "source": [
    "#### - `__missing__():` \n",
    "This function is used to provide the default value for the dictionary. This function takes default_factory as an argument and if this argument is None, a KeyError is raised otherwise it provides a default value for the given key. This method is basically called by the `__getitem__()` method of the dict class when the requested key is not found. `__getitem__()` raises or return the value returned by the `__missing__()`. method."
   ]
  },
  {
   "cell_type": "code",
   "execution_count": 7,
   "id": "5841b297-b07f-4ee0-b598-5200a70c2b05",
   "metadata": {
    "tags": []
   },
   "outputs": [
    {
     "name": "stdout",
     "output_type": "stream",
     "text": [
      "Not Present\n",
      "Not Present\n"
     ]
    }
   ],
   "source": [
    "d = defaultdict(lambda: \"Not Present\")\n",
    "d[\"a\"] = 1\n",
    "d[\"b\"] = 2\n",
    "print(d.__missing__('a')) \n",
    "print(d.__missing__('d')) \n"
   ]
  },
  {
   "cell_type": "markdown",
   "id": "4845e8bc-0295-4376-b6ab-acf4c0f42ddc",
   "metadata": {},
   "source": [
    "## using int as deafault_factory"
   ]
  },
  {
   "cell_type": "code",
   "execution_count": 11,
   "id": "6f031ba2-fbf3-4917-980a-a8b55bfa9e6c",
   "metadata": {
    "tags": []
   },
   "outputs": [
    {
     "name": "stdout",
     "output_type": "stream",
     "text": [
      "defaultdict(<class 'int'>, {1: 2, 2: 3, 3: 1, 4: 2})\n"
     ]
    }
   ],
   "source": [
    "d = defaultdict(int)\n",
    "\n",
    "L = [1, 2, 3, 4, 2, 4, 1, 2]\n",
    "for i in L:\n",
    "    d[i] += 1\n",
    "print(d)"
   ]
  },
  {
   "cell_type": "code",
   "execution_count": null,
   "id": "03671936-f9b0-41d0-9114-703435954b2b",
   "metadata": {},
   "outputs": [],
   "source": []
  }
 ],
 "metadata": {
  "kernelspec": {
   "display_name": "Python 3 (ipykernel)",
   "language": "python",
   "name": "python3"
  },
  "language_info": {
   "codemirror_mode": {
    "name": "ipython",
    "version": 3
   },
   "file_extension": ".py",
   "mimetype": "text/x-python",
   "name": "python",
   "nbconvert_exporter": "python",
   "pygments_lexer": "ipython3",
   "version": "3.11.2"
  }
 },
 "nbformat": 4,
 "nbformat_minor": 5
}
