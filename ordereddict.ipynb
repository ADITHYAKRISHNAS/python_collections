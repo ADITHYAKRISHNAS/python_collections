{
 "cells": [
  {
   "cell_type": "markdown",
   "id": "79daeed7-d6c2-46d1-a1df-7ddee4173388",
   "metadata": {},
   "source": [
    "# OrderedDict\n"
   ]
  },
  {
   "cell_type": "markdown",
   "id": "4c4b6e0c-a1ef-412b-b35a-0e2e7fc4b3dc",
   "metadata": {},
   "source": [
    "An OrderedDict is a dictionary subclass that remembers the order that keys were first inserted. "
   ]
  },
  {
   "cell_type": "code",
   "execution_count": 6,
   "id": "d9cf3b7b-10ad-4d64-988b-0b885c4d5af0",
   "metadata": {
    "tags": []
   },
   "outputs": [
    {
     "name": "stdout",
     "output_type": "stream",
     "text": [
      "This is a Dict:\n",
      "\n",
      "a 1\n",
      "b 2\n",
      "c 3\n",
      "d 4\n",
      "\n",
      "This is an Ordedered Dict: \n",
      "\n",
      "a 1\n",
      "b 2\n",
      "c 3\n",
      "d 4\n"
     ]
    }
   ],
   "source": [
    "from collections import OrderedDict\n",
    "\n",
    "print(\"This is a Dict:\\n\")\n",
    "d = {}\n",
    "d[\"a\"] = 1\n",
    "d[\"b\"] = 2\n",
    "d[\"c\"] = 3\n",
    "d[\"d\"] = 4\n",
    "\n",
    "for key, value in d.items():\n",
    "    print(key, value)\n",
    "print(\"\\nThis is an Ordedered Dict: \\n\")\n",
    "\n",
    "od = OrderedDict()\n",
    "od[\"a\"] = 1\n",
    "od[\"b\"] = 2\n",
    "od[\"c\"] = 3\n",
    "od[\"d\"] = 4\n",
    "\n",
    "for key, value in od.items():\n",
    "    print(key, value)\n"
   ]
  },
  {
   "cell_type": "markdown",
   "id": "c01d0eb5-4da9-41b2-9621-15d1a57fc40a",
   "metadata": {},
   "source": [
    "## 1. key value Change:\n",
    "\n",
    "if the value of a certain key is changed, the position of the key remains unchanged in OrederedDict. "
   ]
  },
  {
   "cell_type": "code",
   "execution_count": 11,
   "id": "670385a5-5249-4a50-b0c5-58e7c10ebc75",
   "metadata": {
    "tags": []
   },
   "outputs": [
    {
     "name": "stdout",
     "output_type": "stream",
     "text": [
      "Before: \n",
      "\n",
      "a 1\n",
      "b 2\n",
      "c 3\n",
      "d 4\n",
      "\n",
      "After: \n",
      "\n",
      "a 1\n",
      "b 2\n",
      "c 5\n",
      "d 4\n"
     ]
    }
   ],
   "source": [
    "\n",
    "print(\"Before: \\n\")\n",
    "od = OrderedDict()\n",
    "od[\"a\"] = 1\n",
    "od[\"b\"] = 2\n",
    "od[\"c\"] = 3\n",
    "od[\"d\"] = 4\n",
    "for key, value in od.items():\n",
    "    print(key, value)\n",
    "print(\"\\nAfter: \\n\")\n",
    "\n",
    "od[\"c\"] = 5\n",
    "\n",
    "for key, value in od.items():\n",
    "    print(key, value)"
   ]
  },
  {
   "cell_type": "markdown",
   "id": "c24863ee-a297-454d-9f08-ca5805173553",
   "metadata": {},
   "source": [
    "## 2.Deletion and Re-Inserting:\n",
    "Deleting and re-inserting the same key will push it to the back as OrderedDict, however, maintains the oder of inserion."
   ]
  },
  {
   "cell_type": "code",
   "execution_count": 13,
   "id": "8ce3c143-1aa8-4f0e-9975-323c4229d2fe",
   "metadata": {
    "tags": []
   },
   "outputs": [
    {
     "name": "stdout",
     "output_type": "stream",
     "text": [
      "Before deleting:\n",
      "\n",
      "a 1\n",
      "b 2\n",
      "c 3\n",
      "d 4\n",
      "\n",
      " After deleting:\n",
      "\n",
      "a 1\n",
      "b 2\n",
      "d 4\n",
      "\n",
      " After re-inserting:\n",
      "\n",
      "a 1\n",
      "b 2\n",
      "d 4\n",
      "c 3\n"
     ]
    }
   ],
   "source": [
    "print(\"Before deleting:\\n\")\n",
    "od = OrderedDict()\n",
    "od[\"a\"] = 1\n",
    "od[\"b\"] = 2\n",
    "od[\"c\"] = 3\n",
    "od[\"d\"] = 4\n",
    "\n",
    "for key, value in od.items():\n",
    "    print(key, value)\n",
    "    \n",
    "print(\"\\n After deleting:\\n\")\n",
    "od.pop(\"c\")\n",
    "for key, value in od.items():\n",
    "    print(key, value)\n",
    "print(\"\\n After re-inserting:\\n\")\n",
    "od[\"c\"] = 3\n",
    "for key, value in od.items():\n",
    "    print(key, value)"
   ]
  },
  {
   "cell_type": "code",
   "execution_count": null,
   "id": "a272ac5d-803e-4199-85e4-d38403ed1c96",
   "metadata": {},
   "outputs": [],
   "source": []
  }
 ],
 "metadata": {
  "kernelspec": {
   "display_name": "Python 3 (ipykernel)",
   "language": "python",
   "name": "python3"
  },
  "language_info": {
   "codemirror_mode": {
    "name": "ipython",
    "version": 3
   },
   "file_extension": ".py",
   "mimetype": "text/x-python",
   "name": "python",
   "nbconvert_exporter": "python",
   "pygments_lexer": "ipython3",
   "version": "3.11.2"
  }
 },
 "nbformat": 4,
 "nbformat_minor": 5
}
