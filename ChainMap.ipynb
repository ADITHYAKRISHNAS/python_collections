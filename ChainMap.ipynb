{
 "cells": [
  {
   "cell_type": "markdown",
   "id": "d981c8ea-82f7-4109-a3f5-aa914f06fcad",
   "metadata": {},
   "source": [
    "# ChainMap\n"
   ]
  },
  {
   "cell_type": "markdown",
   "id": "8c2849fc-0e2d-43c6-a140-d250efba7132",
   "metadata": {},
   "source": [
    "Python contains a container called “ChainMap” which encapsulates many dictionaries into one unit."
   ]
  },
  {
   "cell_type": "code",
   "execution_count": 2,
   "id": "54df03d8-1149-4a16-90df-d37d6fbd7c8e",
   "metadata": {
    "tags": []
   },
   "outputs": [
    {
     "name": "stdout",
     "output_type": "stream",
     "text": [
      "ChainMap({'a': 1, 'b': 2}, {'c': 3, 'd': 4}, {'e': 5, 'f': 6})\n"
     ]
    }
   ],
   "source": [
    "from collections import ChainMap\n",
    "\n",
    "d1 = {\"a\":1, \"b\":2}\n",
    "d2 = {\"c\":3, \"d\":4}\n",
    "d3 = {\"e\":5, \"f\":6}\n",
    "\n",
    "c = ChainMap(d1, d2, d3)\n",
    "print(c)\n"
   ]
  },
  {
   "cell_type": "markdown",
   "id": "560b636a-28bb-43a1-808b-df43968e1734",
   "metadata": {},
   "source": [
    "## Access Operations"
   ]
  },
  {
   "cell_type": "markdown",
   "id": "2fe4c67e-5504-4c31-a335-d1429d361efc",
   "metadata": {},
   "source": [
    "- #### keys() \n",
    "This function is used to display all the keys of all the dictionaries in ChainMap.\n",
    "\n",
    "- ####  values() \n",
    "This function is used to display values of all the dictionaries in ChainMap.\n",
    "\n",
    "- #### maps()\n",
    "This function is used to display keys with corresponding values of all the dictionaries in ChainMap."
   ]
  },
  {
   "cell_type": "code",
   "execution_count": 4,
   "id": "defedd8e-b8a0-45d8-8c26-9a8a2ba40089",
   "metadata": {
    "tags": []
   },
   "outputs": [
    {
     "name": "stdout",
     "output_type": "stream",
     "text": [
      "All the ChainMap contents are : \n",
      "[{'a': 1, 'b': 2}, {'b': 3, 'c': 4}]\n",
      "All keys of ChainMap are : \n",
      "['b', 'c', 'a']\n",
      "All values of ChainMap are : \n",
      "[2, 4, 1]\n"
     ]
    }
   ],
   "source": [
    "dic1 = { 'a' : 1, 'b' : 2 } \n",
    "dic2 = { 'b' : 3, 'c' : 4 } \n",
    "\n",
    "chain = ChainMap(dic1, dic2) \n",
    "\n",
    "print (\"All the ChainMap contents are : \") \n",
    "print (chain.maps) \n",
    "\n",
    "print (\"All keys of ChainMap are : \") \n",
    "print (list(chain.keys())) \n",
    "\n",
    "print (\"All values of ChainMap are : \") \n",
    "print (list(chain.values()))"
   ]
  },
  {
   "cell_type": "markdown",
   "id": "c456bff9-06e0-4207-8c31-685b61c48a0e",
   "metadata": {},
   "source": [
    "## Manipulating Operations"
   ]
  },
  {
   "cell_type": "markdown",
   "id": "24e4001a-c138-45b5-93e0-8d0db93613f2",
   "metadata": {},
   "source": [
    "- #### new_child() \n",
    "This function adds a new dictionary in the beginning of the ChainMap.\n",
    "\n",
    "- #### reversed() \n",
    "This function reverses the relative ordering of dictionaries in the ChainMap."
   ]
  },
  {
   "cell_type": "code",
   "execution_count": 5,
   "id": "219bfcb5-8792-4c60-bab3-2b6cb8173284",
   "metadata": {
    "tags": []
   },
   "outputs": [
    {
     "name": "stdout",
     "output_type": "stream",
     "text": [
      "All the ChainMap contents are : \n",
      "[{'a': 1, 'b': 2}, {'b': 3, 'c': 4}]\n",
      "Displaying new ChainMap : \n",
      "[{'f': 5}, {'a': 1, 'b': 2}, {'b': 3, 'c': 4}]\n",
      "Value associated with b before reversing is : 2\n",
      "Value associated with b after reversing is : 3\n"
     ]
    }
   ],
   "source": [
    "dic1 = { 'a' : 1, 'b' : 2 } \n",
    "dic2 = { 'b' : 3, 'c' : 4 } \n",
    "dic3 = { 'f' : 5 } \n",
    "\n",
    "chain = ChainMap(dic1,dic2)\n",
    "print (\"All the ChainMap contents are : \") \n",
    "print (chain.maps) \n",
    "chain1 = chain.new_child(dic3) \n",
    "print (\"Displaying new ChainMap : \") \n",
    "print (chain1.maps) \n",
    "print (\"Value associated with b before reversing is : \",end=\"\") \n",
    "print (chain1['b']) \n",
    "chain1.maps = reversed(chain1.maps) \n",
    "print (\"Value associated with b after reversing is : \",end=\"\") \n",
    "print (chain1['b']) "
   ]
  },
  {
   "cell_type": "code",
   "execution_count": null,
   "id": "e639c518-e340-4181-96ee-5b83f78c3086",
   "metadata": {},
   "outputs": [],
   "source": []
  }
 ],
 "metadata": {
  "kernelspec": {
   "display_name": "Python 3 (ipykernel)",
   "language": "python",
   "name": "python3"
  },
  "language_info": {
   "codemirror_mode": {
    "name": "ipython",
    "version": 3
   },
   "file_extension": ".py",
   "mimetype": "text/x-python",
   "name": "python",
   "nbconvert_exporter": "python",
   "pygments_lexer": "ipython3",
   "version": "3.11.2"
  }
 },
 "nbformat": 4,
 "nbformat_minor": 5
}
