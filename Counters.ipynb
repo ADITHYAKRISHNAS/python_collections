{
 "cells": [
  {
   "cell_type": "markdown",
   "id": "1d0a781b-cd59-43ad-b77b-0134630be588",
   "metadata": {
    "tags": []
   },
   "source": [
    "# Counter\n",
    "\n",
    "Containers are objects that hold objects. They provide a way to access the contained objects and iterate over them. Examples of built-in containers are Tuples, lists, and dictionaries. Others are included in the Collections module.\n",
    "\n",
    "A Counter is a subclass of dict. Therefore it is an unordered collection where elements and their respective count are stored as a dictionary. This is equivalent to a bag or multiset of other languages.\n"
   ]
  },
  {
   "cell_type": "code",
   "execution_count": 2,
   "id": "2c9c9384-6acb-44cf-9b2a-84ebb3317518",
   "metadata": {
    "tags": []
   },
   "outputs": [
    {
     "name": "stdout",
     "output_type": "stream",
     "text": [
      "Counter({'B': 5, 'A': 3, 'C': 2})\n",
      "Counter({'B': 5, 'A': 3, 'C': 2})\n",
      "Counter({'B': 5, 'A': 3, 'C': 2})\n"
     ]
    }
   ],
   "source": [
    "from collections import Counter\n",
    "\n",
    "print(Counter([\"B\", \"B\", \"A\", \"B\", \"C\", \"A\", \"B\", \"B\", \"A\",\"C\"]))\n",
    "\n",
    "print(Counter({\"A\":3, \"B\":5, \"C\":2}))\n",
    "\n",
    "print(Counter(A=3, B=5, C=2))"
   ]
  },
  {
   "cell_type": "markdown",
   "id": "c89d5325-124c-47f3-a780-2ad2bdfc40dc",
   "metadata": {},
   "source": [
    "can create empty counter using \n",
    "<br/>\n",
    "coun = collections.Counter()\n",
    "<br/>\n",
    "and can be updated via the update() method.\n",
    "<br/>\n",
    "coun.update(Data)"
   ]
  },
  {
   "cell_type": "code",
   "execution_count": 3,
   "id": "b760dd63-d821-410c-9c6c-846223392df0",
   "metadata": {
    "tags": []
   },
   "outputs": [
    {
     "name": "stdout",
     "output_type": "stream",
     "text": [
      "Counter({1: 4, 2: 3, 3: 1})\n",
      "Counter({1: 5, 2: 4, 3: 1, 4: 1})\n"
     ]
    }
   ],
   "source": [
    "coun = Counter()\n",
    "\n",
    "coun.update([1, 2, 3, 1, 2, 1, 1, 2])\n",
    "print(coun)\n",
    "\n",
    "coun.update([1, 2, 4])\n",
    "print(coun)\n"
   ]
  },
  {
   "cell_type": "markdown",
   "id": "56b89d3a-3cb3-42ad-a276-176d40b1df90",
   "metadata": {},
   "source": [
    "## Subtract two counterm\n",
    "                                                                        "
   ]
  },
  {
   "cell_type": "code",
   "execution_count": 4,
   "id": "46d9ed63-cc49-4c37-bd6a-50401dcde06d",
   "metadata": {
    "tags": []
   },
   "outputs": [
    {
     "name": "stdout",
     "output_type": "stream",
     "text": [
      "Counter({'C': 6, 'B': 0, 'A': -6})\n"
     ]
    }
   ],
   "source": [
    "c1 = Counter(A= 4, B = 3, C = 10)\n",
    "c2 = Counter(A= 10, B = 3, C = 4)\n",
    "c1.subtract(c2)\n",
    "print(c1)\n"
   ]
  },
  {
   "cell_type": "markdown",
   "id": "54e9cae9-0dd1-4ff1-acbb-44929bd30e6b",
   "metadata": {},
   "source": [
    "## Printing counter\n",
    "\n",
    "all the keys and values of a counter using the keys(), values(), and items() \n"
   ]
  },
  {
   "cell_type": "code",
   "execution_count": 5,
   "id": "8c6cf139-e2fd-43f8-8c9b-dcbdd18b3b82",
   "metadata": {
    "tags": []
   },
   "outputs": [
    {
     "name": "stdout",
     "output_type": "stream",
     "text": [
      "dict_keys(['a', 'b', 'r', 'c', 'd'])\n",
      "dict_values([5, 2, 2, 1, 1])\n",
      "dict_items([('a', 5), ('b', 2), ('r', 2), ('c', 1), ('d', 1)])\n"
     ]
    }
   ],
   "source": [
    "my_counter = Counter(\"abracadabra\")\n",
    "print(my_counter.keys())\n",
    "print(my_counter.values())\n",
    "print(my_counter.items())"
   ]
  },
  {
   "cell_type": "code",
   "execution_count": null,
   "id": "e5e40131-bb4a-407f-9ddc-08e170a1a542",
   "metadata": {},
   "outputs": [],
   "source": []
  }
 ],
 "metadata": {
  "kernelspec": {
   "display_name": "Python 3 (ipykernel)",
   "language": "python",
   "name": "python3"
  },
  "language_info": {
   "codemirror_mode": {
    "name": "ipython",
    "version": 3
   },
   "file_extension": ".py",
   "mimetype": "text/x-python",
   "name": "python",
   "nbconvert_exporter": "python",
   "pygments_lexer": "ipython3",
   "version": "3.11.2"
  }
 },
 "nbformat": 4,
 "nbformat_minor": 5
}
