{
 "cells": [
  {
   "cell_type": "markdown",
   "id": "5909c303-aaad-4552-a81e-540afa59325d",
   "metadata": {},
   "source": [
    "# NamedTuple"
   ]
  },
  {
   "cell_type": "markdown",
   "id": "1fed522d-bbe0-483d-81c2-845f8c346366",
   "metadata": {},
   "source": [
    "NamedTuple provides a way to create simple, lightweight data structures similar to a class, but without the overhead of defining a full class. Like dictionaries, they contain keys that are hashed to a particular value. On the contrary, it supports both access from key-value and iteration, the functionality that dictionaries lack."
   ]
  },
  {
   "cell_type": "code",
   "execution_count": 9,
   "id": "b8e37da7-5254-4e0d-8db8-a95aee317bc2",
   "metadata": {
    "tags": []
   },
   "outputs": [
    {
     "name": "stdout",
     "output_type": "stream",
     "text": [
      "<class '__main__.Student'>\n",
      "Student(name='Nandini', age='19', Dob='1541997')\n",
      "The student age using index is : 19\n",
      "The Student name using key name is : Nandini\n"
     ]
    }
   ],
   "source": [
    "from collections import namedtuple\n",
    "\n",
    "student = namedtuple(\"Student\",[\"name\", \"age\", \"Dob\"])\n",
    "print(student)\n",
    "\n",
    "# adding new value\n",
    "S = Student(\"Nandini\" , \"19\", \"1541997\")\n",
    "print(S)\n",
    "\n",
    "print(\"The student age using index is : \" , end= \"\")\n",
    "print(S[1])\n",
    "\n",
    "print(\"The Student name using key name is : \" , end= \"\")\n",
    "print(S.name)"
   ]
  },
  {
   "cell_type": "markdown",
   "id": "af0d1b54-7553-44b5-ab64-599d71a138a2",
   "metadata": {},
   "source": [
    "## Operations on NamedTuple\n",
    "\n",
    "- Create a NameTuple\n",
    "- Access Operations\n",
    "- Convesion Operations\n",
    "- Additonal Operations"
   ]
  },
  {
   "cell_type": "markdown",
   "id": "d28f50b1-b1d4-442f-ab68-cdf92b448be3",
   "metadata": {},
   "source": [
    "#### Create a NameTuple in Pyhton"
   ]
  },
  {
   "cell_type": "markdown",
   "id": "901f52c1-6cf6-487a-8fb8-2e98a2ce7589",
   "metadata": {},
   "source": [
    "This creates a new namedtuple class using the namedtuple() function from the collections module. The first argument is the name of the new class, and the second argument is a list of field names."
   ]
  },
  {
   "cell_type": "code",
   "execution_count": 14,
   "id": "a4156f28-b16e-4bb0-965a-a9de4a7d15fe",
   "metadata": {
    "tags": []
   },
   "outputs": [
    {
     "name": "stdout",
     "output_type": "stream",
     "text": [
      "1 2\n"
     ]
    }
   ],
   "source": [
    "Point =namedtuple(\"Point\",[\"x\", \"y\"])\n",
    "P = Point(x= 1, y=2)\n",
    "print(P.x, P.y)"
   ]
  },
  {
   "cell_type": "markdown",
   "id": "02f9f039-4501-4476-8281-8ea0aca389a0",
   "metadata": {},
   "source": [
    "### Access Operations\n",
    "\n"
   ]
  },
  {
   "cell_type": "markdown",
   "id": "e3462c67-29f8-443d-9cbf-090e66681502",
   "metadata": {},
   "source": [
    "Namedtuples in Python provide convenient ways to access their fields. Below are some access operations provided in Python for NamedTuple:\n",
    "- Access by index\n",
    "- Access by keyname\n",
    "- Access Using getattr()"
   ]
  },
  {
   "cell_type": "code",
   "execution_count": 22,
   "id": "50d453f6-f6e3-4172-840f-7d789ba07997",
   "metadata": {
    "tags": []
   },
   "outputs": [
    {
     "name": "stdout",
     "output_type": "stream",
     "text": [
      "The Student age using index is : 19\n",
      "The Student name using keyname is : Nandini\n",
      "The Student DOB using getattr() is : 2541997\n"
     ]
    }
   ],
   "source": [
    "\n",
    "Student = namedtuple('Student', ['name', 'age', 'DOB'])\n",
    "S = Student('Nandini', '19', '2541997')\n",
    "# Access by inde\n",
    "print(\"The Student age using index is : \", end=\"\")\n",
    "print(S[1])\n",
    "#  Access by keyname\n",
    "print(\"The Student name using keyname is : \", end=\"\")\n",
    "print(S.name)\n",
    "# Access Using getattr()\n",
    "print(\"The Student DOB using getattr() is : \", end=\"\")\n",
    "print(getattr(S, 'DOB'))"
   ]
  },
  {
   "cell_type": "code",
   "execution_count": null,
   "id": "b5c21090-161c-483e-a5bb-4e00e78e9ff5",
   "metadata": {},
   "outputs": [],
   "source": []
  }
 ],
 "metadata": {
  "kernelspec": {
   "display_name": "Python 3 (ipykernel)",
   "language": "python",
   "name": "python3"
  },
  "language_info": {
   "codemirror_mode": {
    "name": "ipython",
    "version": 3
   },
   "file_extension": ".py",
   "mimetype": "text/x-python",
   "name": "python",
   "nbconvert_exporter": "python",
   "pygments_lexer": "ipython3",
   "version": "3.11.2"
  }
 },
 "nbformat": 4,
 "nbformat_minor": 5
}
