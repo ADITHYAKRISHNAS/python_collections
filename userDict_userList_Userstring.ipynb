{
 "cells": [
  {
   "cell_type": "markdown",
   "id": "d72906b1-017d-4cb0-ba1e-22e494d9b6e2",
   "metadata": {},
   "source": [
    "# UserDict"
   ]
  },
  {
   "cell_type": "markdown",
   "id": "31bf1986-6bb3-4036-b5b7-15e7e7bb9ef2",
   "metadata": {},
   "source": [
    "Python supports a dictionary like a container called UserDict present in the collections module. This class acts as a wrapper class around the dictionary objects. This class is useful when one wants to create a dictionary of their own with some modified functionality or with some new functionality. It can be considered as a way of adding new behaviors to the dictionary. This class takes a dictionary instance as an argument and simulates a dictionary that is kept in a regular dictionary. The dictionary is accessible by the data attribute of this class."
   ]
  },
  {
   "cell_type": "code",
   "execution_count": 1,
   "id": "96a1bf57-bfa6-485b-8867-422f7c57baae",
   "metadata": {
    "tags": []
   },
   "outputs": [
    {
     "name": "stdout",
     "output_type": "stream",
     "text": [
      "{'a': 1, 'b': 2, 'c': 3}\n",
      "{}\n"
     ]
    }
   ],
   "source": [
    "from collections import UserDict\n",
    "\n",
    "d = {'a':1,\n",
    "    'b': 2,\n",
    "    'c': 3}\n",
    "# Creating an UserDict\n",
    "userD = UserDict(d)\n",
    "print(userD.data)\n",
    "\n",
    "# Creating an empty UserDict\n",
    "userD = UserDict()\n",
    "print(userD.data)\n",
    "    "
   ]
  },
  {
   "cell_type": "code",
   "execution_count": 2,
   "id": "abf7813c-c65f-4b28-9bbc-71869a9ab2b8",
   "metadata": {
    "tags": []
   },
   "outputs": [
    {
     "name": "stdout",
     "output_type": "stream",
     "text": [
      "Original Dictionary\n",
      "{'a': 1, 'b': 2, 'c': 3}\n"
     ]
    },
    {
     "ename": "RuntimeError",
     "evalue": "Deletion not alloweda",
     "output_type": "error",
     "traceback": [
      "\u001b[1;31m---------------------------------------------------------------------------\u001b[0m",
      "\u001b[1;31mRuntimeError\u001b[0m                              Traceback (most recent call last)",
      "Cell \u001b[1;32mIn[2], line 14\u001b[0m\n\u001b[0;32m     11\u001b[0m \u001b[38;5;28mprint\u001b[39m(\u001b[38;5;124m\"\u001b[39m\u001b[38;5;124mOriginal Dictionary\u001b[39m\u001b[38;5;124m\"\u001b[39m)\n\u001b[0;32m     12\u001b[0m \u001b[38;5;28mprint\u001b[39m(d)\n\u001b[1;32m---> 14\u001b[0m \u001b[43md\u001b[49m\u001b[38;5;241;43m.\u001b[39;49m\u001b[43mpop\u001b[49m\u001b[43m(\u001b[49m\u001b[38;5;241;43m1\u001b[39;49m\u001b[43m)\u001b[49m             \n",
      "Cell \u001b[1;32mIn[2], line 5\u001b[0m, in \u001b[0;36mMyDict.pop\u001b[1;34m(self, s)\u001b[0m\n\u001b[0;32m      4\u001b[0m \u001b[38;5;28;01mdef\u001b[39;00m \u001b[38;5;21mpop\u001b[39m(\u001b[38;5;28mself\u001b[39m, s \u001b[38;5;241m=\u001b[39m \u001b[38;5;28;01mNone\u001b[39;00m):\n\u001b[1;32m----> 5\u001b[0m     \u001b[38;5;28;01mraise\u001b[39;00m \u001b[38;5;167;01mRuntimeError\u001b[39;00m(\u001b[38;5;124m\"\u001b[39m\u001b[38;5;124mDeletion not alloweda\u001b[39m\u001b[38;5;124m\"\u001b[39m)\n",
      "\u001b[1;31mRuntimeError\u001b[0m: Deletion not alloweda"
     ]
    }
   ],
   "source": [
    "class MyDict(UserDict):\n",
    "    def __del__(self):\n",
    "        raise runtimeError(\"Deletion not allowed\")\n",
    "    def pop(self, s = None):\n",
    "        raise RuntimeError(\"Deletion not alloweda\")\n",
    "    def popitem(self, s = None):\n",
    "        raise RuntimeError(\"Deletion not alloed\")\n",
    "    \n",
    "d = MyDict({\"a\":1,\"b\":2,\"c\":3})\n",
    "    \n",
    "print(\"Original Dictionary\")\n",
    "print(d)\n",
    " \n",
    "d.pop(1)             "
   ]
  },
  {
   "cell_type": "markdown",
   "id": "f640f6e5-8c9d-4dba-8f50-b4942675de43",
   "metadata": {},
   "source": [
    "# UserList"
   ]
  },
  {
   "cell_type": "markdown",
   "id": "9ba6282b-6120-4a1e-b77f-c2c17969be1b",
   "metadata": {},
   "source": [
    "Python supports a List like a container called UserList present in the collections module. This class acts as a wrapper class around the List objects. This class is useful when one wants to create a list of their own with some modified functionality or with some new functionality. It can be considered as a way of adding new behaviors for the list. This class takes a list instance as an argument and simulates a list that is kept in a regular list. The list is accessible by the data attribute of the this class."
   ]
  },
  {
   "cell_type": "code",
   "execution_count": 1,
   "id": "5e9e88ae-1973-4746-898e-c5bb3655d202",
   "metadata": {
    "tags": []
   },
   "outputs": [
    {
     "name": "stdout",
     "output_type": "stream",
     "text": [
      "[1, 2, 3, 4]\n",
      "[]\n"
     ]
    }
   ],
   "source": [
    "from collections import UserList\n",
    " \n",
    " \n",
    "L = [1, 2, 3, 4]\n",
    " \n",
    "# Creating a userlist\n",
    "userL = UserList(L)\n",
    "print(userL.data)\n",
    " \n",
    " \n",
    "# Creating empty userlist\n",
    "userL = UserList()\n",
    "print(userL.data)"
   ]
  },
  {
   "cell_type": "code",
   "execution_count": 2,
   "id": "431df288-8497-4e77-aa93-3396724789c3",
   "metadata": {
    "tags": []
   },
   "outputs": [
    {
     "name": "stdout",
     "output_type": "stream",
     "text": [
      "Original List\n",
      "After Insertion\n",
      "[1, 2, 3, 4, 5]\n"
     ]
    },
    {
     "ename": "RuntimeError",
     "evalue": "Deletion not allowed",
     "output_type": "error",
     "traceback": [
      "\u001b[1;31m---------------------------------------------------------------------------\u001b[0m",
      "\u001b[1;31mRuntimeError\u001b[0m                              Traceback (most recent call last)",
      "Cell \u001b[1;32mIn[2], line 25\u001b[0m\n\u001b[0;32m     22\u001b[0m \u001b[38;5;28mprint\u001b[39m(L)\n\u001b[0;32m     24\u001b[0m \u001b[38;5;66;03m# Deleting From List\u001b[39;00m\n\u001b[1;32m---> 25\u001b[0m \u001b[43mL\u001b[49m\u001b[38;5;241;43m.\u001b[39;49m\u001b[43mremove\u001b[49m\u001b[43m(\u001b[49m\u001b[43m)\u001b[49m\n",
      "Cell \u001b[1;32mIn[2], line 7\u001b[0m, in \u001b[0;36mMyList.remove\u001b[1;34m(self, s)\u001b[0m\n\u001b[0;32m      6\u001b[0m \u001b[38;5;28;01mdef\u001b[39;00m \u001b[38;5;21mremove\u001b[39m(\u001b[38;5;28mself\u001b[39m, s \u001b[38;5;241m=\u001b[39m \u001b[38;5;28;01mNone\u001b[39;00m):\n\u001b[1;32m----> 7\u001b[0m     \u001b[38;5;28;01mraise\u001b[39;00m \u001b[38;5;167;01mRuntimeError\u001b[39;00m(\u001b[38;5;124m\"\u001b[39m\u001b[38;5;124mDeletion not allowed\u001b[39m\u001b[38;5;124m\"\u001b[39m)\n",
      "\u001b[1;31mRuntimeError\u001b[0m: Deletion not allowed"
     ]
    }
   ],
   "source": [
    "# deletion is not allowed\n",
    "class MyList(UserList):\n",
    "     \n",
    "    # Function to stop deletion\n",
    "    # from List\n",
    "    def remove(self, s = None):\n",
    "        raise RuntimeError(\"Deletion not allowed\")\n",
    "         \n",
    "    # Function to stop pop from \n",
    "    # List\n",
    "    def pop(self, s = None):\n",
    "        raise RuntimeError(\"Deletion not allowed\")\n",
    "     \n",
    "# Driver's code\n",
    "L = MyList([1, 2, 3, 4])\n",
    " \n",
    "print(\"Original List\")\n",
    " \n",
    "# Inserting to List\"\n",
    "L.append(5)\n",
    "print(\"After Insertion\")\n",
    "print(L)\n",
    " \n",
    "# Deleting From List\n",
    "L.remove()\n"
   ]
  },
  {
   "cell_type": "markdown",
   "id": "1b090a4b-26d8-4b2a-9ab3-14bf497801e4",
   "metadata": {},
   "source": [
    "# UserString"
   ]
  },
  {
   "cell_type": "markdown",
   "id": "f1ffc331-9eb5-4c7c-b82f-5faaa7cebc41",
   "metadata": {},
   "source": [
    "Python supports a String like a container called UserString present in the collections module. This class acts as a wrapper class around the string objects. This class is useful when one wants to create a string of their own with some modified functionality or with some new functionality. It can be considered as a way of adding new behaviors for the string. This class takes any argument that can be converted to string and simulates a string whose content is kept in a regular string. The string is accessible by the data attribute of this class."
   ]
  },
  {
   "cell_type": "code",
   "execution_count": 4,
   "id": "e74b6e34-9b9b-4243-abef-fa648987ba29",
   "metadata": {
    "tags": []
   },
   "outputs": [
    {
     "name": "stdout",
     "output_type": "stream",
     "text": [
      "12344\n",
      "\n"
     ]
    }
   ],
   "source": [
    "from collections import UserString\n",
    " \n",
    " \n",
    "d = 12344\n",
    " \n",
    "# Creating an UserDict\n",
    "userS = UserString(d)\n",
    "print(userS.data)\n",
    " \n",
    " \n",
    "# Creating an empty UserDict\n",
    "userS = UserString(\"\")\n",
    "print(userS.data)"
   ]
  },
  {
   "cell_type": "code",
   "execution_count": 5,
   "id": "84875483-078b-4da1-b1f0-47bc0f79a816",
   "metadata": {
    "tags": []
   },
   "outputs": [
    {
     "name": "stdout",
     "output_type": "stream",
     "text": [
      "Original String: Geeks\n",
      "String After Appending: Geekss\n",
      "String after Removing: Gkss\n"
     ]
    }
   ],
   "source": [
    "# Creating a Mutable String\n",
    "class Mystring(UserString):\n",
    "     \n",
    "    # Function to append to\n",
    "    # string\n",
    "    def append(self, s):\n",
    "        self.data += s\n",
    "         \n",
    "    # Function to remove from \n",
    "    # string\n",
    "    def remove(self, s):\n",
    "        self.data = self.data.replace(s, \"\")\n",
    "     \n",
    "# Driver's code\n",
    "s1 = Mystring(\"Geeks\")\n",
    "print(\"Original String:\", s1.data)\n",
    " \n",
    "# Appending to string\n",
    "s1.append(\"s\")\n",
    "print(\"String After Appending:\", s1.data)\n",
    " \n",
    "# Removing from string\n",
    "s1.remove(\"e\")\n",
    "print(\"String after Removing:\", s1.data)"
   ]
  },
  {
   "cell_type": "code",
   "execution_count": null,
   "id": "b0ef5f73-c8c0-465f-879f-41ca84e1fc19",
   "metadata": {},
   "outputs": [],
   "source": []
  }
 ],
 "metadata": {
  "kernelspec": {
   "display_name": "Python 3 (ipykernel)",
   "language": "python",
   "name": "python3"
  },
  "language_info": {
   "codemirror_mode": {
    "name": "ipython",
    "version": 3
   },
   "file_extension": ".py",
   "mimetype": "text/x-python",
   "name": "python",
   "nbconvert_exporter": "python",
   "pygments_lexer": "ipython3",
   "version": "3.11.2"
  }
 },
 "nbformat": 4,
 "nbformat_minor": 5
}
